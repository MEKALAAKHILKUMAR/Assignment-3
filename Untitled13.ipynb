{
 "cells": [
  {
   "cell_type": "markdown",
   "id": "e287b7e4",
   "metadata": {},
   "source": [
    "# Write a Python function to sum all the numbers in a list.\n",
    "\n",
    "Sample List : (8, 2, 3, 0, 7)\n",
    "Expected Output : 20"
   ]
  },
  {
   "cell_type": "code",
   "execution_count": 1,
   "id": "614284c5",
   "metadata": {},
   "outputs": [
    {
     "name": "stdout",
     "output_type": "stream",
     "text": [
      "20\n"
     ]
    }
   ],
   "source": [
    "def sum_0f_list(x):\n",
    "    sum=0\n",
    "    for i in range(len(x)):\n",
    "        sum=sum+x[i]\n",
    "    return sum\n",
    "x= (8, 2, 3, 0, 7)\n",
    "print(sum_0f_list(x))"
   ]
  },
  {
   "cell_type": "markdown",
   "id": "bf9473f2",
   "metadata": {},
   "source": [
    "# Write a Python program to reverse a string.\n",
    "\n",
    "Sample String : \"1234abcd\"\n",
    "Expected Output : \"dcba4321\""
   ]
  },
  {
   "cell_type": "code",
   "execution_count": 6,
   "id": "42625d77",
   "metadata": {},
   "outputs": [
    {
     "name": "stdout",
     "output_type": "stream",
     "text": [
      "dcba4321\n"
     ]
    }
   ],
   "source": [
    "def reverse(x):\n",
    "    y=x[::-1]\n",
    "    return y \n",
    "x= \"1234abcd\"\n",
    "print(reverse(x))"
   ]
  },
  {
   "cell_type": "markdown",
   "id": "143a246c",
   "metadata": {},
   "source": [
    "# Write a Python function that accepts a string and calculate the number of upper case letters and lower case letters.\n",
    "Sample String : 'The quick Brow Fox'\n",
    "Expected Output :\n",
    "No. of Upper case characters : 3\n",
    "No. of Lower case Characters : 12"
   ]
  },
  {
   "cell_type": "code",
   "execution_count": 7,
   "id": "4fdcd6e9",
   "metadata": {},
   "outputs": [
    {
     "name": "stdout",
     "output_type": "stream",
     "text": [
      "No.of Upper case characters: 3\n",
      "No.of Upper case characters: 12\n"
     ]
    }
   ],
   "source": [
    "def letters(x):\n",
    "    upper=0\n",
    "    lower=0\n",
    "    for i in x:\n",
    "        if i.isupper():\n",
    "            upper=upper+1\n",
    "    \n",
    "        else: \n",
    "            if i.islower():\n",
    "                lower+=1 \n",
    "    return upper,lower\n",
    "x='The quick Brow Fox'\n",
    "upper,lower=letters(x)\n",
    "print(\"No.of Upper case characters:\",upper)\n",
    "print(\"No.of Upper case characters:\",lower)"
   ]
  },
  {
   "cell_type": "code",
   "execution_count": null,
   "id": "2deb2e43",
   "metadata": {},
   "outputs": [],
   "source": []
  }
 ],
 "metadata": {
  "kernelspec": {
   "display_name": "Python 3 (ipykernel)",
   "language": "python",
   "name": "python3"
  },
  "language_info": {
   "codemirror_mode": {
    "name": "ipython",
    "version": 3
   },
   "file_extension": ".py",
   "mimetype": "text/x-python",
   "name": "python",
   "nbconvert_exporter": "python",
   "pygments_lexer": "ipython3",
   "version": "3.9.13"
  }
 },
 "nbformat": 4,
 "nbformat_minor": 5
}
